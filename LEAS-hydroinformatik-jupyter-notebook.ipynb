{
 "cells": [
  {
   "cell_type": "markdown",
   "metadata": {},
   "source": [
    "<!--- ![tu-dresden-blue.png](attachment:tu-dresden-blue.png) --->\n",
    "<img src=\"tu-dresden-blue.png\" alt=\"drawing\" width=\"200\"/>\n",
    "<img src=\"ogs-teaching.png\" alt=\"drawing\" width=\"200\"/>"
   ]
  },
  {
   "cell_type": "markdown",
   "metadata": {},
   "source": [
    "Professur für Angewandte Umweltsystemanalyse an der TU Dresden <br/>\n",
    "Prof. Dr.-Ing. habil. Olaf Kolditz <br/>\n",
    "***Hydroinformatik (UW-BHW-414)*** <br/>\n",
    "*[Lehre-Webseite](https://www.ufz.de/index.php?de=40425)*"
   ]
  },
  {
   "cell_type": "markdown",
   "metadata": {
    "tags": []
   },
   "source": [
    "***Lea Stricker***"
   ]
  },
  {
   "cell_type": "markdown",
   "metadata": {
    "tags": []
   },
   "source": [
    "***Übung HA01: Skalarprodukt***"
   ]
  },
  {
   "cell_type": "markdown",
   "metadata": {},
   "source": [
    "Schreiben sie das Skalarprodukt $\\nabla\\cdot\\mathbf{v}$ in Komponentenschreibweise.}"
   ]
  },
  {
   "cell_type": "markdown",
   "metadata": {},
   "source": [
    "$\\nabla\\cdot\\mathbf{v}$ = $\\frac{\\partial v_x}{\\partial x} + \\frac{\\partial v_y}{\\partial y} + \\frac{\\partial v_z}{\\partial z}$"
   ]
  },
  {
   "cell_type": "markdown",
   "metadata": {
    "tags": []
   },
   "source": [
    "***Übung HA02: Kontinuumsmechanik***"
   ]
  },
  {
   "cell_type": "markdown",
   "metadata": {},
   "source": [
    "Was ist $\\mathbf v \\cdot \\nabla \\psi$ ? <br/>\n",
    "Dieser Ausdruck ist ein Skalarprodukt ($\\cdot$) des Geschwindigkeitsvektors ($\\mathbf v = (v_x,v_y,v_z)$) \n",
    "mit dem Gradienten ($\\nabla = (\\partial/\\partial x, \\partial/\\partial y, \\partial/\\partial z)$) einer skalaren Größe ($\\psi$). <br/>\n",
    "In ausgeschriebener Form (Komponentenschreibweise) bedeutet der Ausdruck: <br/>\n",
    "$\\mathbf v \\cdot \\nabla \\psi  \n",
    "=\n",
    "v_x \\partial \\psi/\\partial x + v_y \\partial \\psi/\\partial y + v_z \\partial \\psi/\\partial z$\n",
    "\n",
    "Physiklalisch ist dieser Term der advektive Fluss der Größe $\\psi$."
   ]
  },
  {
   "cell_type": "markdown",
   "metadata": {
    "tags": []
   },
   "source": [
    "***Übung HA03: Kontinuumsmechanik***"
   ]
  },
  {
   "cell_type": "markdown",
   "metadata": {},
   "source": [
    "Was ist die physikalische Bedeutung des Terms $\\Phi^\\psi$?"
   ]
  },
  {
   "cell_type": "markdown",
   "metadata": {},
   "source": [
    "$\\Phi^\\psi$ ist der mechanische Fluss. Dieser besteht aus einem advektiven und diffusiven Teil."
   ]
  },
  {
   "cell_type": "markdown",
   "metadata": {
    "tags": []
   },
   "source": [
    "***Übung HA04: Kontinuumsmechanik***"
   ]
  },
  {
   "cell_type": "markdown",
   "metadata": {},
   "source": [
    "Schreiben Sie den Ausdruck $\\nabla \\cdot (\\mathbf v \\psi)$ in Komponentenschreibweise."
   ]
  },
  {
   "cell_type": "markdown",
   "metadata": {},
   "source": [
    "$\\nabla\\cdot(\\mathbf v\\psi)$= $\\frac{\\partial v_x \\psi}{\\partial x}$ + $\\frac{\\partial v_y \\psi}{\\partial y}$ + $\\frac{\\partial v_z \\psi}{\\partial z}$"
   ]
  },
  {
   "cell_type": "markdown",
   "metadata": {
    "tags": []
   },
   "source": [
    "***Übung HA05: Kontinuumsmechanik***"
   ]
  },
  {
   "cell_type": "markdown",
   "metadata": {},
   "source": [
    "Schreiben Sie den Ausdruck $\\nabla \\cdot (\\mathbf D^\\psi \\nabla \\psi)$ in Komponentenschreibweise."
   ]
  },
  {
   "cell_type": "markdown",
   "metadata": {},
   "source": [
    "$D_x \\frac{\\partial^2 \\psi}{\\partial x^2}+D_y \\frac{\\partial^2 \\psi}{\\partial y^2}+D_z \\frac{\\partial^2 \\psi}{\\partial z^2}$"
   ]
  },
  {
   "cell_type": "markdown",
   "metadata": {
    "tags": []
   },
   "source": [
    "***Übung HA06: Analytik***"
   ]
  },
  {
   "cell_type": "markdown",
   "metadata": {},
   "source": [
    "\\begin{equation}\n",
    "\\psi(t,x) = sin (\\sqrt{\\pi\\alpha} x) exp (-\\pi t)\n",
    "\\end{equation}\n",
    "\\begin{equation}\n",
    "\\psi(t,x) = sin (\\frac{\\pi}{\\sqrt{\\alpha}} x) exp (-\\pi^2 t)\n",
    "\\end{equation}\n",
    "\\begin{equation}\n",
    "\\psi(t,x) = sin (\\pi x) exp (-\\alpha\\pi^2 t)\n",
    "\\end{equation}"
   ]
  },
  {
   "cell_type": "markdown",
   "metadata": {},
   "source": [
    "Prüfen Sie die Gültigkeit folgender Lösungen für die Diffusionsgleichung: \n",
    "\\begin{equation}\n",
    "\\frac{\\partial u}{\\partial t} - \\alpha \\frac{\\partial^2 u}{\\partial x^2} = 0\n",
    "\\end{equation}"
   ]
  },
  {
   "cell_type": "markdown",
   "metadata": {},
   "source": [
    "(1) Erste Funktion passt nicht. "
   ]
  },
  {
   "cell_type": "markdown",
   "metadata": {},
   "source": [
    "(3) \n",
    "$\\frac{\\partial\\psi}{\\partial t}= -\\alpha \\sin(\\pi x) \\exp(-\\alpha\\pi^2 t) (\\pi^2)$\n",
    "\n",
    "        \n",
    "$\\frac{\\partial\\psi}{\\partial x}= -cos(\\pi x) \\pi \\exp(-\\alpha\\pi^2 t)$\n",
    "\n",
    "$\\alpha \\frac{\\partial^2\\psi}{\\partial x}= -\\alpha (-sin(\\pi x) \\pi^2 \\exp(-\\alpha\\pi^2 t))$"
   ]
  },
  {
   "cell_type": "markdown",
   "metadata": {
    "tags": []
   },
   "source": [
    "***Übung HA07: Analytische Lösungen partieller Differentialgleichungen***"
   ]
  },
  {
   "cell_type": "markdown",
   "metadata": {
    "tags": []
   },
   "source": [
    "***Übung HA07a***"
   ]
  },
  {
   "cell_type": "markdown",
   "metadata": {},
   "source": [
    "Partial Differential Equation:\n",
    "$\\frac{\\partial u}{\\partial t} - \\alpha \\frac{\\partial^2 u}{\\partial x^2} = 0$\n",
    "\n",
    "Initial condition:\n",
    "$u(t=0,x)=1$\n",
    "\n",
    "Boundary conditions\n",
    "$u(t,x=0)=0$\n",
    "$u(t,x=1)=0$"
   ]
  },
  {
   "cell_type": "markdown",
   "metadata": {},
   "source": [
    "Lösen Sie die analytische Lösungen für die 1-D parabolische Differentialgleichung mit Hilfe von Python."
   ]
  },
  {
   "cell_type": "markdown",
   "metadata": {},
   "source": [
    "Partial Differential Equation:\n",
    "$\\frac{\\partial u}{\\partial t} - \\alpha \\frac{\\partial^2 u}{\\partial x^2} = 0$\n",
    "\n",
    "Initial condition:\n",
    "$u(t=0,x)=1$\n",
    "\n",
    "Boundary conditions\n",
    "$u(t,x=0)=0$\n",
    "$u(t,x=1)=0$"
   ]
  },
  {
   "cell_type": "code",
   "execution_count": 1,
   "metadata": {},
   "outputs": [
    {
     "ename": "ModuleNotFoundError",
     "evalue": "No module named 'matplotlib'",
     "output_type": "error",
     "traceback": [
      "\u001b[31m---------------------------------------------------------------------------\u001b[39m",
      "\u001b[31mModuleNotFoundError\u001b[39m                       Traceback (most recent call last)",
      "\u001b[36mCell\u001b[39m\u001b[36m \u001b[39m\u001b[32mIn[1]\u001b[39m\u001b[32m, line 2\u001b[39m\n\u001b[32m      1\u001b[39m \u001b[38;5;28;01mimport\u001b[39;00m\u001b[38;5;250m \u001b[39m\u001b[34;01mmath\u001b[39;00m\n\u001b[32m----> \u001b[39m\u001b[32m2\u001b[39m \u001b[38;5;28;01mimport\u001b[39;00m\u001b[38;5;250m \u001b[39m\u001b[34;01mmatplotlib\u001b[39;00m\u001b[34;01m.\u001b[39;00m\u001b[34;01mpylab\u001b[39;00m\u001b[38;5;250m \u001b[39m\u001b[38;5;28;01mas\u001b[39;00m\u001b[38;5;250m \u001b[39m\u001b[34;01mplt\u001b[39;00m\n\u001b[32m      3\u001b[39m PI = \u001b[32m3.1415926\u001b[39m\n\u001b[32m      4\u001b[39m numPoints = \u001b[32m10\u001b[39m\n",
      "\u001b[31mModuleNotFoundError\u001b[39m: No module named 'matplotlib'"
     ]
    }
   ],
   "source": [
    "import math\n",
    "import matplotlib.pylab as plt\n",
    "PI = 3.1415926\n",
    "numPoints = 10\n",
    "alpha = 1.0\n",
    "t = [0.1,0.5,1.0,2.0]\n",
    "x = []\n",
    "y = []\n",
    "for n in t:\n",
    "    for i in range(0,numPoints+1):\n",
    "        #x.append(float(i)/float(numPoints))\n",
    "        #y.append(math.sin(PI*x[i]) * math.exp(-alpha*n*n))\n",
    "        y.append(math.sin(PI*x[i]) * math.exp(-alpha*PI*PI*n))\n",
    "    plt.plot(x,y,color='red',marker=\"o\")\n",
    "    x = []\n",
    "    y = []\n",
    "\n",
    "plt.xlabel('x')\n",
    "plt.ylabel('u')\n",
    "plt.axis('tight')\n",
    "plt.show()"
   ]
  },
  {
   "cell_type": "markdown",
   "metadata": {
    "tags": []
   },
   "source": [
    "***Übung HA07b***"
   ]
  },
  {
   "cell_type": "markdown",
   "metadata": {
    "tags": []
   },
   "source": [
    "***Übung HA07c***"
   ]
  },
  {
   "cell_type": "markdown",
   "metadata": {
    "tags": []
   },
   "source": [
    "***Übung HA08: Numerische Lösung der Diffusiongleichung mit der expliziten Finiten-Differenzen-Methode***"
   ]
  },
  {
   "cell_type": "markdown",
   "metadata": {
    "tags": []
   },
   "source": [
    "***Übung HA09: Numerische Lösung der Diffusiongleichung mit der impliziten Finiten-Differenzen-Methode***"
   ]
  },
  {
   "cell_type": "code",
   "execution_count": 2,
   "metadata": {},
   "outputs": [
    {
     "ename": "ModuleNotFoundError",
     "evalue": "No module named 'numpy'",
     "output_type": "error",
     "traceback": [
      "\u001b[31m---------------------------------------------------------------------------\u001b[39m",
      "\u001b[31mModuleNotFoundError\u001b[39m                       Traceback (most recent call last)",
      "\u001b[36mCell\u001b[39m\u001b[36m \u001b[39m\u001b[32mIn[2]\u001b[39m\u001b[32m, line 2\u001b[39m\n\u001b[32m      1\u001b[39m \u001b[38;5;28;01mimport\u001b[39;00m\u001b[38;5;250m \u001b[39m\u001b[34;01mmath\u001b[39;00m\n\u001b[32m----> \u001b[39m\u001b[32m2\u001b[39m \u001b[38;5;28;01mimport\u001b[39;00m\u001b[38;5;250m \u001b[39m\u001b[34;01mnumpy\u001b[39;00m\u001b[38;5;250m \u001b[39m\u001b[38;5;28;01mas\u001b[39;00m\u001b[38;5;250m \u001b[39m\u001b[34;01mnp\u001b[39;00m\n\u001b[32m      3\u001b[39m \u001b[38;5;28;01mimport\u001b[39;00m\u001b[38;5;250m \u001b[39m\u001b[34;01mmatplotlib\u001b[39;00m\u001b[34;01m.\u001b[39;00m\u001b[34;01mpylab\u001b[39;00m\u001b[38;5;250m \u001b[39m\u001b[38;5;28;01mas\u001b[39;00m\u001b[38;5;250m \u001b[39m\u001b[34;01mplt\u001b[39;00m\n\u001b[32m      4\u001b[39m \u001b[38;5;66;03m#data structures\u001b[39;00m\n\u001b[32m      5\u001b[39m \u001b[38;5;66;03m##physical parameter\u001b[39;00m\n",
      "\u001b[31mModuleNotFoundError\u001b[39m: No module named 'numpy'"
     ]
    }
   ],
   "source": [
    "import math\n",
    "import numpy as np\n",
    "import matplotlib.pylab as plt\n",
    "#data structures\n",
    "##physical parameter\n",
    "alpha = 1.0\n",
    "##numerical parameters (discretization)\n",
    "nx = 100\n",
    "x = np.zeros(nx+1)\n",
    "dx = 1./nx\n",
    "t = [0.01]\n",
    "nt = 500 #wieviele Zeitschritte bis zum stationären Zustand\n",
    "dt = 0.505 * dx*dx / alpha\n",
    "Ne = alpha * dt / (dx*dx)\n",
    "##field function\n",
    "u = np.zeros(nx+1)\n",
    "uo = np.zeros(nx+1)\n",
    "#initial condition\n",
    "u_ic = 0.\n",
    "for i in range(nx+1):\n",
    "\tx[i] = 0\n",
    "\tu[i] = 0\n",
    "\tuo[i] = 0\n",
    "#boundary conditions\n",
    "u_bc_l = 3.\n",
    "u_bc_r = -1.\n",
    "u[0] = uo[0] = u_bc_l\n",
    "u[nx] = uo[nx] = u_bc_r\n",
    "#initial state\n",
    "for i in range(0,nx+1):\n",
    "    x[i] = (float(i)/float(nx))\n",
    "plt.plot(x,u,color='blue')\n",
    "#fdm-explicit\n",
    "for n in range(1,nt):\n",
    "\tfor i in range(1,nx):\n",
    "\t\tu[i] = uo[i] + Ne *(uo[i-1] - 2*uo[i] + uo[i+1])\n",
    "\tif(n % 10 == 0): \n",
    "\t    plt.plot(x,u,color='blue')\n",
    "\tfor i in range(1,nx):\n",
    "\t\tuo[i] = u[i]\n",
    "#plots\n",
    "plt.title('EX08: explizite Finite-Differenzen-Methode')\n",
    "plt.xlabel('x')\n",
    "plt.ylabel('u')\n",
    "plt.axis('tight')\n",
    "plt.grid()\n",
    "plt.savefig(\"fdm-explicit.png\")\n",
    "plt.show()"
   ]
  },
  {
   "cell_type": "markdown",
   "metadata": {
    "tags": []
   },
   "source": [
    "***Übung HA10: Maschinelles Lernen: Lineare Regression***"
   ]
  },
  {
   "cell_type": "code",
   "execution_count": null,
   "metadata": {},
   "outputs": [],
   "source": []
  }
 ],
 "metadata": {
  "kernelspec": {
   "display_name": "Python 3 (ipykernel)",
   "language": "python",
   "name": "python3"
  },
  "language_info": {
   "codemirror_mode": {
    "name": "ipython",
    "version": 3
   },
   "file_extension": ".py",
   "mimetype": "text/x-python",
   "name": "python",
   "nbconvert_exporter": "python",
   "pygments_lexer": "ipython3",
   "version": "3.13.4"
  }
 },
 "nbformat": 4,
 "nbformat_minor": 4
}
